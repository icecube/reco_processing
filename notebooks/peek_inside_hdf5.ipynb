{
 "cells": [
  {
   "cell_type": "code",
   "execution_count": 13,
   "metadata": {},
   "outputs": [],
   "source": [
    "import pandas as pd\n",
    "import h5py\n"
   ]
  },
  {
   "cell_type": "code",
   "execution_count": 14,
   "metadata": {},
   "outputs": [],
   "source": [
    "file_path = \"/data/user/tvaneede/GlobalFit/reco_processing/hdf/output/v7.0/NuTau_22635.h5\""
   ]
  },
  {
   "cell_type": "code",
   "execution_count": 15,
   "metadata": {},
   "outputs": [],
   "source": [
    "# file = pd.HDFStore(file_path,'r')\n",
    "file = h5py.File(file_path, 'r')"
   ]
  },
  {
   "cell_type": "code",
   "execution_count": 6,
   "metadata": {},
   "outputs": [
    {
     "data": {
      "text/plain": [
       "[]"
      ]
     },
     "execution_count": 6,
     "metadata": {},
     "output_type": "execute_result"
    }
   ],
   "source": [
    "file.keys()\n"
   ]
  },
  {
   "cell_type": "code",
   "execution_count": 16,
   "metadata": {},
   "outputs": [],
   "source": [
    "def print_structure(name, obj):\n",
    "    print(name)"
   ]
  },
  {
   "cell_type": "code",
   "execution_count": 17,
   "metadata": {},
   "outputs": [
    {
     "name": "stdout",
     "output_type": "stream",
     "text": [
      "CombinedCascadeSeed_L3\n",
      "CscdL3_SPEFit16\n",
      "CscdL3_SPEFit16FitParams\n",
      "I3EventHeader\n",
      "I3MCWeightDict\n",
      "LineFit\n",
      "MonopodFit_iMIGRAD_PPB0\n",
      "MonopodFit_iMIGRAD_PPB0FitParams\n",
      "OnlineL2_SplineMPE\n",
      "PreferredFit\n",
      "SPEFit2\n",
      "TaupedeFit_iMIGRAD_PPB0\n",
      "TaupedeFit_iMIGRAD_PPB0FitParams\n",
      "TaupedeFit_iMIGRAD_PPB0Particles\n",
      "__I3Index__\n",
      "__I3Index__/CombinedCascadeSeed_L3\n",
      "__I3Index__/CscdL3_SPEFit16\n",
      "__I3Index__/CscdL3_SPEFit16FitParams\n",
      "__I3Index__/I3EventHeader\n",
      "__I3Index__/I3MCWeightDict\n",
      "__I3Index__/LineFit\n",
      "__I3Index__/MonopodFit_iMIGRAD_PPB0\n",
      "__I3Index__/MonopodFit_iMIGRAD_PPB0FitParams\n",
      "__I3Index__/OnlineL2_SplineMPE\n",
      "__I3Index__/PreferredFit\n",
      "__I3Index__/SPEFit2\n",
      "__I3Index__/TaupedeFit_iMIGRAD_PPB0\n",
      "__I3Index__/TaupedeFit_iMIGRAD_PPB0FitParams\n",
      "__I3Index__/TaupedeFit_iMIGRAD_PPB0Particles\n",
      "__I3Index__/cc\n",
      "__I3Index__/cc_2surf\n",
      "__I3Index__/cc_aDust400_notilt\n",
      "__I3Index__/cc_aDust400_tilted\n",
      "__I3Index__/cc_b400_notilt\n",
      "__I3Index__/cc_b400_tilted\n",
      "__I3Index__/cc_easymm\n",
      "__I3Index__/cc_tauvis\n",
      "__I3Index__/cc_zshift\n",
      "cc\n",
      "cc_2surf\n",
      "cc_aDust400_notilt\n",
      "cc_aDust400_tilted\n",
      "cc_b400_notilt\n",
      "cc_b400_tilted\n",
      "cc_easymm\n",
      "cc_tauvis\n",
      "cc_zshift\n"
     ]
    }
   ],
   "source": [
    "with h5py.File(file_path, 'r') as f:\n",
    "    def print_structure(name, obj):\n",
    "        print(name)\n",
    "\n",
    "    f.visititems(print_structure)"
   ]
  }
 ],
 "metadata": {
  "kernelspec": {
   "display_name": "py3-v4.4.1_reco-v1.1.0",
   "language": "python",
   "name": "python3"
  },
  "language_info": {
   "codemirror_mode": {
    "name": "ipython",
    "version": 3
   },
   "file_extension": ".py",
   "mimetype": "text/x-python",
   "name": "python",
   "nbconvert_exporter": "python",
   "pygments_lexer": "ipython3",
   "version": "3.12.5"
  }
 },
 "nbformat": 4,
 "nbformat_minor": 2
}
