{
 "cells": [
  {
   "cell_type": "code",
   "execution_count": 1,
   "metadata": {},
   "outputs": [],
   "source": [
    "%load_ext autoreload\n",
    "%autoreload 2"
   ]
  },
  {
   "cell_type": "code",
   "execution_count": 2,
   "metadata": {},
   "outputs": [],
   "source": [
    "import simweights\n",
    "import pickle\n",
    "import os, sys\n",
    "import numpy as np\n",
    "import matplotlib as mat\n",
    "import matplotlib.pyplot as plt\n",
    "%matplotlib inline\n",
    "import matplotlib.colors as colors\n",
    "import matplotlib.gridspec as gridspec\n",
    "import pandas as pd\n",
    "import tables\n",
    "import h5py\n",
    "import math\n",
    "from scipy.stats import mstats\n",
    "import matplotlib as mpl\n",
    "import matplotlib.font_manager as font_manager\n"
   ]
  },
  {
   "cell_type": "code",
   "execution_count": 3,
   "metadata": {},
   "outputs": [],
   "source": [
    "file_path = \"/data/user/tvaneede/GlobalFit/reco_processing/hdf/output/ftp_l3casc/NuTau_22634_0000000-0000999.h5\"\n",
    "hdf = pd.HDFStore(file_path,'r')\n",
    "nfiles = 1000"
   ]
  },
  {
   "cell_type": "code",
   "execution_count": 4,
   "metadata": {},
   "outputs": [],
   "source": [
    "weighter = simweights.NuGenWeighter(hdf, nfiles=nfiles)"
   ]
  },
  {
   "cell_type": "code",
   "execution_count": 5,
   "metadata": {},
   "outputs": [],
   "source": [
    "# astro\n",
    "per_flavor_norm = 2.12\n",
    "gamma_astro = 2.87\n",
    "livetime_yr = 11.687\n",
    "livetime_s  = livetime_yr * 365.25 * 24 * 3600 # 11.687 year\n",
    "def AstroFluxModel(pdgid, energy, cos_zen):\n",
    "    flux = 0.5*(per_flavor_norm*1e-18)*(energy/1e5)**-gamma_astro\n",
    "    return flux\n",
    "weights  = weighter.get_weights( AstroFluxModel )"
   ]
  },
  {
   "cell_type": "code",
   "execution_count": 6,
   "metadata": {},
   "outputs": [],
   "source": [
    "# variables\n",
    "PrimaryNeutrinoEnergy = hdf[\"I3MCWeightDict\"][\"PrimaryNeutrinoEnergy\"].values\n",
    "HESE_CausalQTot = hdf[\"HESE_CausalQTot\"].value.values\n",
    "HESE_VHESelfVeto = hdf[\"HESE_VHESelfVeto\"].value.values\n",
    "QFilterMask_HESEFilter_15_condition_passed = hdf[\"QFilterMask_HESEFilter_15_condition_passed\"].value.values"
   ]
  },
  {
   "cell_type": "code",
   "execution_count": 8,
   "metadata": {},
   "outputs": [
    {
     "name": "stdout",
     "output_type": "stream",
     "text": [
      "weights_cut 32.41837213952271\n",
      "weights_cut 175.9312620116005\n",
      "total events 27352\n",
      "weights_cut 32.41837213952271\n",
      "total events 10754\n"
     ]
    }
   ],
   "source": [
    "# reproduce event rate\n",
    "mask = (HESE_VHESelfVeto == False) & (HESE_CausalQTot > 6000)\n",
    "weights_cut = weights[mask]\n",
    "print(\"weights_cut\", sum(weights_cut)*livetime_s)\n",
    "\n",
    "# now with QFilterMask\n",
    "mask = (QFilterMask_HESEFilter_15_condition_passed == 1)\n",
    "weights_cut = weights[mask]\n",
    "print(\"weights_cut\", sum(weights_cut)*livetime_s)\n",
    "print(\"total events\", len(weights_cut))\n",
    "\n",
    "# now with QFilterMask and Qtot\n",
    "mask = (QFilterMask_HESEFilter_15_condition_passed == 1)  & (HESE_CausalQTot > 6000)\n",
    "weights_cut = weights[mask]\n",
    "print(\"weights_cut\", sum(weights_cut)*livetime_s)\n",
    "print(\"total events\", len(weights_cut))\n"
   ]
  },
  {
   "cell_type": "code",
   "execution_count": 9,
   "metadata": {},
   "outputs": [
    {
     "name": "stdout",
     "output_type": "stream",
     "text": [
      "total filtered events 14262\n"
     ]
    }
   ],
   "source": [
    "file_path_filtered = \"/data/user/tvaneede/GlobalFit/reco_processing/hdf/output/v1_wpid/NuTau_22634_0000000-0000999.h5\"\n",
    "hdf_filtered = pd.HDFStore(file_path_filtered,'r')\n",
    "print(\"total filtered events\", len(hdf_filtered[\"I3MCWeightDict\"][\"PrimaryNeutrinoEnergy\"].values))"
   ]
  },
  {
   "cell_type": "markdown",
   "metadata": {},
   "source": [
    "Why do I miss so many filtered events with my \n",
    "\n",
    "tray.Add( lambda frame: 'QFilterMask' in frame and frame['QFilterMask']['HESEFilter_15'].condition_passed )"
   ]
  },
  {
   "cell_type": "code",
   "execution_count": null,
   "metadata": {},
   "outputs": [
    {
     "name": "stdout",
     "output_type": "stream",
     "text": [
      "            Run  Event  SubEvent  SubEventStream  exists  time_start_utc_daq  \\\n",
      "986  2263400000     88         0               0       1  130612472805721229   \n",
      "987  2263400000    100         0               0       1  130612472805776339   \n",
      "988  2263400000    605         0               0       1  130612473106104099   \n",
      "989  2263400000    654         0               0       1  130612472807102499   \n",
      "\n",
      "     time_start_mjd    time_end_utc_daq  time_end_mjd  \n",
      "986    59000.171844  130612472805917299  59000.171844  \n",
      "987    59000.171844  130612472805989439  59000.171844  \n",
      "988    59000.171844  130612473106305169  59000.171844  \n",
      "989    59000.171844  130612472807305009  59000.171844  \n",
      "               Run  Event  SubEvent  SubEventStream  exists  \\\n",
      "141121  2263400000     88         0               0       1   \n",
      "141122  2263400000    100         0               0       1   \n",
      "141128  2263400000    605         0               0       1   \n",
      "141131  2263400000    654         0               0       1   \n",
      "141135  2263400000    862         0               0       1   \n",
      "141136  2263400000    870         0               0       1   \n",
      "141139  2263400000    881         0               0       1   \n",
      "141141  2263400000   1046         0               0       1   \n",
      "141146  2263400000   1127         0               0       1   \n",
      "141147  2263400000   1171         0               0       1   \n",
      "141151  2263400000   1286         0               0       1   \n",
      "141156  2263400000   1589         0               0       1   \n",
      "141165  2263400000   1904         0               0       1   \n",
      "141170  2263400000   2111         0               0       1   \n",
      "141179  2263400000   2881         0               0       1   \n",
      "141181  2263400000   2911         0               0       1   \n",
      "141182  2263400000   2964         0               0       1   \n",
      "141196  2263400000   3757         0               0       1   \n",
      "141199  2263400000   3869         0               0       1   \n",
      "141206  2263400000   4460         0               0       1   \n",
      "141216  2263400000   4764         0               0       1   \n",
      "141242  2263400000   5709         0               0       1   \n",
      "141246  2263400000   5788         0               0       1   \n",
      "141253  2263400000   5912         0               0       1   \n",
      "141256  2263400000   5977         0               0       1   \n",
      "\n",
      "        time_start_utc_daq  time_start_mjd    time_end_utc_daq  time_end_mjd  \n",
      "141121  130612472805721229    59000.171844  130612472805917299  59000.171844  \n",
      "141122  130612472805776339    59000.171844  130612472805989439  59000.171844  \n",
      "141128  130612473106104099    59000.171844  130612473106305169  59000.171844  \n",
      "141131  130612472807102499    59000.171844  130612472807305009  59000.171844  \n",
      "141135  130612472805789679    59000.171844  130612472806049199  59000.171844  \n",
      "141136  130612472805740969    59000.171844  130612472805937689  59000.171844  \n",
      "141139  130612472806681459    59000.171844  130612472806954519  59000.171844  \n",
      "141141  130612472805736109    59000.171844  130612472805944879  59000.171844  \n",
      "141146  130612472805742939    59000.171844  130612472805943819  59000.171844  \n",
      "141147  130612472805713619    59000.171844  130612472805915199  59000.171844  \n",
      "141151  130612472805820609    59000.171844  130612472806033949  59000.171844  \n",
      "141156  130612472805738379    59000.171844  130612472805934489  59000.171844  \n",
      "141165  130612472805755349    59000.171844  130612472805967649  59000.171844  \n",
      "141170  130612472805735489    59000.171844  130612472805937479  59000.171844  \n",
      "141179  130612472805803919    59000.171844  130612472806040639  59000.171844  \n",
      "141181  130612472945063159    59000.171844  130612472945278509  59000.171844  \n",
      "141182  130612472805734129    59000.171844  130612472805948879  59000.171844  \n",
      "141196  130612472805733849    59000.171844  130612472805936129  59000.171844  \n",
      "141199  130612472805722049    59000.171844  130612472805930479  59000.171844  \n",
      "141206  130612473085971609    59000.171844  130612473086220749  59000.171844  \n",
      "141216  130612472805712109    59000.171844  130612472805917299  59000.171844  \n",
      "141242  130612472805880029    59000.171844  130612472806095319  59000.171844  \n",
      "141246  130612472805718619    59000.171844  130612472805924939  59000.171844  \n",
      "141253  130612472805751869    59000.171844  130612472805936969  59000.171844  \n",
      "141256  130612473018766679    59000.171844  130612473018977479  59000.171844  \n"
     ]
    }
   ],
   "source": [
    "# events in my filtered file\n",
    "mask = hdf_filtered[\"I3EventHeader\"][\"Run\"] == 2263400000\n",
    "print(hdf_filtered[\"I3EventHeader\"][mask])\n",
    "\n",
    "# actual events\n",
    "mask = (hdf[\"I3EventHeader\"][\"Run\"] == 2263400000) & (QFilterMask_HESEFilter_15_condition_passed == 1)\n",
    "print(hdf[\"I3EventHeader\"][mask])\n"
   ]
  },
  {
   "cell_type": "markdown",
   "metadata": {},
   "source": [
    "Now lets take a look in the l3 file\n",
    "\n",
    "dataio-shovel /data/sim/IceCube/2023/filtered/level3/cascade/neutrino-generator/22634/0000000-0000999/Level3_NuTau_NuGenCCNC.022634.000000.i3.zst\n",
    "\n",
    "In there, we have event 862 that has QFilter passed.\n",
    "\n",
    "Now look in our filtered file.\n",
    "\n",
    "dataio-shovel /data/user/tvaneede/GlobalFit/reco_processing/filtering/output/v1/22634/0000000-0000999/Level3_NuTau_NuGenCCNC.022634.000000.i3.zst\n",
    "\n",
    "There we also see the event!\n",
    "\n",
    "Lets see my reco file\n",
    "\n",
    "dataio-shovel /data/user/tvaneede/GlobalFit/reco_processing/output/v1/22634/0000000-0000999/Reco_NuTau_NuGenCCNC.022634.000000.i3.zst_out.i3.bz2 \n",
    "\n",
    "There we also have the event!\n",
    "\n",
    "Let's see the PID file\n",
    "\n",
    "dataio-shovel /data/user/tvaneede/GlobalFit/reco_processing/pid_neha/output/v1/22634/0000000-0000999/Reco_NuTau_NuGenCCNC.022634.000000.i3.zst_out.i3.bz2\n",
    "\n",
    "There we suddenly have 4 events left! Wtf happenend."
   ]
  },
  {
   "cell_type": "markdown",
   "metadata": {},
   "source": []
  },
  {
   "cell_type": "code",
   "execution_count": null,
   "metadata": {},
   "outputs": [],
   "source": [
    "# now lets take a look in "
   ]
  }
 ],
 "metadata": {
  "kernelspec": {
   "display_name": "py3-v4.4.1_reco-v1.1.0",
   "language": "python",
   "name": "python3"
  },
  "language_info": {
   "codemirror_mode": {
    "name": "ipython",
    "version": 3
   },
   "file_extension": ".py",
   "mimetype": "text/x-python",
   "name": "python",
   "nbconvert_exporter": "python",
   "pygments_lexer": "ipython3",
   "version": "3.12.5"
  }
 },
 "nbformat": 4,
 "nbformat_minor": 2
}
